{
 "cells": [
  {
   "cell_type": "code",
   "execution_count": 1,
   "metadata": {},
   "outputs": [],
   "source": [
    "import numpy as np\n",
    "from random import randint\n",
    "from sklearn.preprocessing import MinMaxScaler\n",
    "from sklearn.utils import shuffle"
   ]
  },
  {
   "cell_type": "code",
   "execution_count": 2,
   "metadata": {},
   "outputs": [],
   "source": [
    "train_labels=[]\n",
    "train_samples=[]\n"
   ]
  },
  {
   "cell_type": "code",
   "execution_count": 3,
   "metadata": {},
   "outputs": [],
   "source": [
    "for i in range(50):\n",
    "    # The ~5% of younger individuals who did experience side effects\n",
    "    random_younger = randint(13,64)\n",
    "    train_samples.append(random_younger)\n",
    "    train_labels.append(1)\n",
    "\n",
    "    # The ~5% of older individuals who did not experience side effects\n",
    "    random_older = randint(65,100)\n",
    "    train_samples.append(random_older)\n",
    "    train_labels.append(0)"
   ]
  },
  {
   "cell_type": "code",
   "execution_count": 4,
   "metadata": {},
   "outputs": [],
   "source": [
    "for i in range(1000):\n",
    "    # The ~95% of younger individuals who did not experience side effects\n",
    "    random_younger = randint(13,64)\n",
    "    train_samples.append(random_younger)\n",
    "    train_labels.append(0)\n",
    "\n",
    "    # The ~95% of older individuals who did experience side effects\n",
    "    random_older = randint(65,100)\n",
    "    train_samples.append(random_older)\n",
    "    train_labels.append(1)"
   ]
  },
  {
   "cell_type": "code",
   "execution_count": 5,
   "metadata": {},
   "outputs": [
    {
     "data": {
      "text/plain": [
       "(2100, 2100)"
      ]
     },
     "execution_count": 5,
     "metadata": {},
     "output_type": "execute_result"
    }
   ],
   "source": [
    "len(train_samples),len(train_labels)"
   ]
  },
  {
   "cell_type": "code",
   "execution_count": 20,
   "metadata": {},
   "outputs": [],
   "source": [
    "#convert list to numpy array\n",
    "train_samples=np.array(train_samples).reshape(-1,1)\n",
    "train_labels=np.array(train_labels)"
   ]
  },
  {
   "cell_type": "code",
   "execution_count": 21,
   "metadata": {},
   "outputs": [
    {
     "data": {
      "text/plain": [
       "(dtype('int64'), (2100, 1))"
      ]
     },
     "execution_count": 21,
     "metadata": {},
     "output_type": "execute_result"
    }
   ],
   "source": [
    "train_samples.dtype,train_samples.shape"
   ]
  },
  {
   "cell_type": "code",
   "execution_count": 22,
   "metadata": {},
   "outputs": [],
   "source": [
    "# shuffle the data\n",
    "train_labels,train_sample=shuffle(train_labels,train_samples)"
   ]
  },
  {
   "cell_type": "code",
   "execution_count": 23,
   "metadata": {},
   "outputs": [],
   "source": [
    "# scaled the data from 0 to 1\n",
    "scaler=MinMaxScaler(feature_range=(0,1))\n",
    "scaled_train_samples=scaler.fit_transform(train_samples)"
   ]
  },
  {
   "cell_type": "code",
   "execution_count": 24,
   "metadata": {},
   "outputs": [],
   "source": [
    "import tensorflow as tf\n",
    "from tensorflow.keras.models import Sequential\n",
    "from tensorflow.keras.layers import Activation,Dense\n",
    "\n",
    "from tensorflow.keras.optimizers import Adam\n",
    "from tensorflow.keras.metrics import categorical_crossentropy"
   ]
  },
  {
   "cell_type": "code",
   "execution_count": 25,
   "metadata": {},
   "outputs": [],
   "source": [
    "model = Sequential([\n",
    "    Dense(units=16, input_shape=(1,), activation='relu'),\n",
    "    Dense(units=32, activation='relu'),\n",
    "    Dense(units=2, activation='softmax')\n",
    "])"
   ]
  },
  {
   "cell_type": "code",
   "execution_count": 26,
   "metadata": {},
   "outputs": [
    {
     "name": "stdout",
     "output_type": "stream",
     "text": [
      "Model: \"sequential_1\"\n",
      "_________________________________________________________________\n",
      "Layer (type)                 Output Shape              Param #   \n",
      "=================================================================\n",
      "dense_3 (Dense)              (None, 16)                32        \n",
      "_________________________________________________________________\n",
      "dense_4 (Dense)              (None, 32)                544       \n",
      "_________________________________________________________________\n",
      "dense_5 (Dense)              (None, 2)                 66        \n",
      "=================================================================\n",
      "Total params: 642\n",
      "Trainable params: 642\n",
      "Non-trainable params: 0\n",
      "_________________________________________________________________\n"
     ]
    }
   ],
   "source": [
    "model.summary()"
   ]
  },
  {
   "cell_type": "code",
   "execution_count": 30,
   "metadata": {},
   "outputs": [],
   "source": [
    "model.compile(optimizer=Adam(learning_rate=0.0001),loss='sparse_categorical_crossentropy',metrics=['accuracy'])"
   ]
  },
  {
   "cell_type": "code",
   "execution_count": null,
   "metadata": {},
   "outputs": [],
   "source": []
  },
  {
   "cell_type": "code",
   "execution_count": 29,
   "metadata": {},
   "outputs": [
    {
     "name": "stdout",
     "output_type": "stream",
     "text": [
      "Epoch 1/30\n",
      "2100/2100 [==============================] - 0s 205us/sample - loss: 0.6931 - acc: 0.5119\n",
      "Epoch 2/30\n",
      "2100/2100 [==============================] - 0s 189us/sample - loss: 0.6931 - acc: 0.5100\n",
      "Epoch 3/30\n",
      "2100/2100 [==============================] - 0s 195us/sample - loss: 0.6931 - acc: 0.5100\n",
      "Epoch 4/30\n",
      "2100/2100 [==============================] - 0s 193us/sample - loss: 0.6932 - acc: 0.5086\n",
      "Epoch 5/30\n",
      "2100/2100 [==============================] - 0s 189us/sample - loss: 0.6931 - acc: 0.5010\n",
      "Epoch 6/30\n",
      "2100/2100 [==============================] - 0s 191us/sample - loss: 0.6931 - acc: 0.5048\n",
      "Epoch 7/30\n",
      "2100/2100 [==============================] - 0s 196us/sample - loss: 0.6931 - acc: 0.4986\n",
      "Epoch 8/30\n",
      "2100/2100 [==============================] - 0s 205us/sample - loss: 0.6931 - acc: 0.5005\n",
      "Epoch 9/30\n",
      "2100/2100 [==============================] - 0s 204us/sample - loss: 0.6931 - acc: 0.4933\n",
      "Epoch 10/30\n",
      "2100/2100 [==============================] - 0s 186us/sample - loss: 0.6931 - acc: 0.5114\n",
      "Epoch 11/30\n",
      "2100/2100 [==============================] - 0s 184us/sample - loss: 0.6931 - acc: 0.5119\n",
      "Epoch 12/30\n",
      "2100/2100 [==============================] - 0s 184us/sample - loss: 0.6930 - acc: 0.5086\n",
      "Epoch 13/30\n",
      "2100/2100 [==============================] - 0s 183us/sample - loss: 0.6931 - acc: 0.5081\n",
      "Epoch 14/30\n",
      "2100/2100 [==============================] - 0s 192us/sample - loss: 0.6932 - acc: 0.4948\n",
      "Epoch 15/30\n",
      "2100/2100 [==============================] - 0s 192us/sample - loss: 0.6931 - acc: 0.5062\n",
      "Epoch 16/30\n",
      "2100/2100 [==============================] - 0s 186us/sample - loss: 0.6931 - acc: 0.4976\n",
      "Epoch 17/30\n",
      "2100/2100 [==============================] - 0s 196us/sample - loss: 0.6930 - acc: 0.5105\n",
      "Epoch 18/30\n",
      "2100/2100 [==============================] - 0s 191us/sample - loss: 0.6931 - acc: 0.5119\n",
      "Epoch 19/30\n",
      "2100/2100 [==============================] - 0s 196us/sample - loss: 0.6931 - acc: 0.5010\n",
      "Epoch 20/30\n",
      "2100/2100 [==============================] - 0s 195us/sample - loss: 0.6931 - acc: 0.4986\n",
      "Epoch 21/30\n",
      "2100/2100 [==============================] - 0s 199us/sample - loss: 0.6931 - acc: 0.5129\n",
      "Epoch 22/30\n",
      "2100/2100 [==============================] - 0s 219us/sample - loss: 0.6932 - acc: 0.4967\n",
      "Epoch 23/30\n",
      "2100/2100 [==============================] - 1s 254us/sample - loss: 0.6931 - acc: 0.5095\n",
      "Epoch 24/30\n",
      "2100/2100 [==============================] - 0s 189us/sample - loss: 0.6931 - acc: 0.5076\n",
      "Epoch 25/30\n",
      "2100/2100 [==============================] - 0s 213us/sample - loss: 0.6932 - acc: 0.5067\n",
      "Epoch 26/30\n",
      "2100/2100 [==============================] - 1s 268us/sample - loss: 0.6930 - acc: 0.4995\n",
      "Epoch 27/30\n",
      "2100/2100 [==============================] - 1s 328us/sample - loss: 0.6930 - acc: 0.5105\n",
      "Epoch 28/30\n",
      "2100/2100 [==============================] - 1s 253us/sample - loss: 0.6930 - acc: 0.5076\n",
      "Epoch 29/30\n",
      "2100/2100 [==============================] - 0s 191us/sample - loss: 0.6931 - acc: 0.5057\n",
      "Epoch 30/30\n",
      "2100/2100 [==============================] - 0s 198us/sample - loss: 0.6930 - acc: 0.4938\n"
     ]
    },
    {
     "data": {
      "text/plain": [
       "<tensorflow.python.keras.callbacks.History at 0x7f4e28212f10>"
      ]
     },
     "execution_count": 29,
     "metadata": {},
     "output_type": "execute_result"
    }
   ],
   "source": [
    "model.fit(x=scaled_train_samples, y=train_labels, batch_size=10, epochs=30)"
   ]
  },
  {
   "cell_type": "code",
   "execution_count": null,
   "metadata": {},
   "outputs": [],
   "source": []
  }
 ],
 "metadata": {
  "kernelspec": {
   "display_name": "Python 3",
   "language": "python",
   "name": "python3"
  },
  "language_info": {
   "codemirror_mode": {
    "name": "ipython",
    "version": 3
   },
   "file_extension": ".py",
   "mimetype": "text/x-python",
   "name": "python",
   "nbconvert_exporter": "python",
   "pygments_lexer": "ipython3",
   "version": "3.7.6"
  }
 },
 "nbformat": 4,
 "nbformat_minor": 4
}
