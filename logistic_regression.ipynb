{
  "nbformat": 4,
  "nbformat_minor": 0,
  "metadata": {
    "accelerator": "GPU",
    "colab": {
      "name": "logistic_regression.ipynb",
      "provenance": [],
      "collapsed_sections": [],
      "include_colab_link": true
    },
    "kernelspec": {
      "display_name": "Python 3",
      "name": "python3"
    },
    "language_info": {
      "name": "python"
    }
  },
  "cells": [
    {
      "cell_type": "markdown",
      "metadata": {
        "id": "view-in-github",
        "colab_type": "text"
      },
      "source": [
        "<a href=\"https://colab.research.google.com/github/andleebhayath/MLProjects/blob/main/logistic_regression.ipynb\" target=\"_parent\"><img src=\"https://colab.research.google.com/assets/colab-badge.svg\" alt=\"Open In Colab\"/></a>"
      ]
    },
    {
      "cell_type": "markdown",
      "metadata": {
        "id": "ZITiD15Ez7Lr"
      },
      "source": [
        "# Analysis & Prediction of Heart Failure\n",
        "\n",
        "### Load necessary libraries\n"
      ]
    },
    {
      "cell_type": "code",
      "metadata": {
        "colab": {
          "base_uri": "https://localhost:8080/"
        },
        "id": "qHumifTJVXpe",
        "outputId": "7f828217-bf81-496c-c7de-78d9ba105906"
      },
      "source": [
        "import pandas as pd\n",
        "from imblearn.over_sampling import SMOTE # deal with imbalance data\n",
        "from sklearn.preprocessing import MinMaxScaler, PowerTransformer # scale data\n",
        "import numpy\n",
        "import plotly.express as px\n",
        "import numpy as np\n",
        "import seaborn as sns\n",
        "import matplotlib.pyplot as plt\n",
        "from sklearn.utils import resample\n",
        "from sklearn.model_selection import RandomizedSearchCV\n",
        "from sklearn.metrics import classification_report, plot_roc_curve\n",
        "from sklearn.metrics import confusion_matrix, precision_score, recall_score, f1_score\n",
        "from sklearn.metrics import roc_curve, accuracy_score, roc_auc_score\n",
        "from sklearn.model_selection import train_test_split, cross_val_score, cross_val_predict\n",
        "from sklearn.linear_model import LogisticRegression\n",
        "from sklearn.tree import DecisionTreeClassifier\n",
        "from sklearn.model_selection import train_test_split\n",
        "from sklearn.metrics import accuracy_score\n",
        "from sklearn.model_selection import RepeatedStratifiedKFold\n",
        "from sklearn.model_selection import GridSearchCV\n",
        "from sklearn.ensemble import RandomForestClassifier\n",
        "from sklearn.preprocessing import StandardScaler\n",
        "import matplotlib.pyplot as plt\n",
        "from statistics import mean\n",
        "from matplotlib import pyplot\n",
        "from sklearn.model_selection import cross_validate\n",
        "from sklearn.model_selection import RepeatedStratifiedKFold\n",
        "from sklearn.metrics import plot_confusion_matrix\n",
        "from imblearn.over_sampling import SMOTE\n",
        "from sklearn.model_selection import cross_validate\n",
        "\n",
        "\n",
        "import warnings\n",
        "warnings.filterwarnings('ignore')\n"
      ],
      "execution_count": null,
      "outputs": [
        {
          "output_type": "stream",
          "name": "stderr",
          "text": [
            "/usr/local/lib/python3.7/dist-packages/sklearn/externals/six.py:31: FutureWarning: The module is deprecated in version 0.21 and will be removed in version 0.23 since we've dropped support for Python 2.7. Please rely on the official version of six (https://pypi.org/project/six/).\n",
            "  \"(https://pypi.org/project/six/).\", FutureWarning)\n",
            "/usr/local/lib/python3.7/dist-packages/sklearn/utils/deprecation.py:144: FutureWarning: The sklearn.neighbors.base module is  deprecated in version 0.22 and will be removed in version 0.24. The corresponding classes / functions should instead be imported from sklearn.neighbors. Anything that cannot be imported from sklearn.neighbors is now part of the private API.\n",
            "  warnings.warn(message, FutureWarning)\n"
          ]
        }
      ]
    },
    {
      "cell_type": "markdown",
      "metadata": {
        "id": "RPROlhoWcqVS"
      },
      "source": [
        "## Dataset Description"
      ]
    },
    {
      "cell_type": "markdown",
      "metadata": {
        "id": "tAWJGWEmSKiL"
      },
      "source": [
        "Dataset: \n",
        "The Heart failure clinical records dataset contains the medical records of 299 patients who had heart failure.\n",
        "The dataset contains 11 clinical features (some of them are binary, others are numerical), the follow-up period and the label DEATH_EVENT that indicates whether or not the patient has died.\n",
        "We can find some features strictly related to medical aspects like levels of enzymes, sodium, creatinine and platelets in the blood and others that are more common like age, sex or smoking."
      ]
    },
    {
      "cell_type": "markdown",
      "metadata": {
        "id": "bUlzoOlNz6TC"
      },
      "source": [
        "## Load dataset from UCI repository"
      ]
    },
    {
      "cell_type": "code",
      "metadata": {
        "id": "NIsBuulgVhsr"
      },
      "source": [
        "data=pd.read_csv('https://archive.ics.uci.edu/ml/machine-learning-databases/00519/heart_failure_clinical_records_dataset.csv')\n",
        "values=data.values\n"
      ],
      "execution_count": null,
      "outputs": []
    },
    {
      "cell_type": "markdown",
      "metadata": {
        "id": "3IYU3TLz-B0H"
      },
      "source": [
        "1. Age: age of patient (in years)\n",
        "\n",
        "2. Anaemia: Decrease of red blood cells or hemoglobin\n",
        "\n",
        "3. High blood pressure: If a patient has hypertension\n",
        "\n",
        "4. Creatinine phosphokinase: Level of the CPK enzyme in the blood (mcg/L)\n",
        "\n",
        "5. Diabetes: If the patient has diabetes\n",
        "\n",
        "6. Ejection fraction: Percentage of blood leaving the heart at each contraction\n",
        "\n",
        "7. Sex: Woman or man\n",
        "\n",
        "8. Platelets: Platelets in the blood (kiloplatelets/mL)\n",
        "\n",
        "9. Serum creatinine: Level of creatinine in the blood (mg/dL)\n",
        "\n",
        "10. Serum sodium: Level of sodium in the blood (mEq/L)\n",
        "\n",
        "11. Smoking: If the patient smokes\n",
        "\n",
        "12. Time: Follow-up period (in days)\n",
        "\n",
        "13. (target) death event: If the patient died during the follow-up period"
      ]
    },
    {
      "cell_type": "code",
      "metadata": {
        "colab": {
          "base_uri": "https://localhost:8080/",
          "height": 357
        },
        "id": "C9DdVj1HF9Pk",
        "outputId": "f20688d1-9309-4913-cd63-00bd8bb9a895"
      },
      "source": [
        "data.head(10)"
      ],
      "execution_count": null,
      "outputs": [
        {
          "data": {
            "text/html": [
              "<div>\n",
              "<style scoped>\n",
              "    .dataframe tbody tr th:only-of-type {\n",
              "        vertical-align: middle;\n",
              "    }\n",
              "\n",
              "    .dataframe tbody tr th {\n",
              "        vertical-align: top;\n",
              "    }\n",
              "\n",
              "    .dataframe thead th {\n",
              "        text-align: right;\n",
              "    }\n",
              "</style>\n",
              "<table border=\"1\" class=\"dataframe\">\n",
              "  <thead>\n",
              "    <tr style=\"text-align: right;\">\n",
              "      <th></th>\n",
              "      <th>age</th>\n",
              "      <th>anaemia</th>\n",
              "      <th>creatinine_phosphokinase</th>\n",
              "      <th>diabetes</th>\n",
              "      <th>ejection_fraction</th>\n",
              "      <th>high_blood_pressure</th>\n",
              "      <th>platelets</th>\n",
              "      <th>serum_creatinine</th>\n",
              "      <th>serum_sodium</th>\n",
              "      <th>sex</th>\n",
              "      <th>smoking</th>\n",
              "      <th>time</th>\n",
              "      <th>DEATH_EVENT</th>\n",
              "    </tr>\n",
              "  </thead>\n",
              "  <tbody>\n",
              "    <tr>\n",
              "      <th>0</th>\n",
              "      <td>75.0</td>\n",
              "      <td>0</td>\n",
              "      <td>582</td>\n",
              "      <td>0</td>\n",
              "      <td>20</td>\n",
              "      <td>1</td>\n",
              "      <td>265000.00</td>\n",
              "      <td>1.9</td>\n",
              "      <td>130</td>\n",
              "      <td>1</td>\n",
              "      <td>0</td>\n",
              "      <td>4</td>\n",
              "      <td>1</td>\n",
              "    </tr>\n",
              "    <tr>\n",
              "      <th>1</th>\n",
              "      <td>55.0</td>\n",
              "      <td>0</td>\n",
              "      <td>7861</td>\n",
              "      <td>0</td>\n",
              "      <td>38</td>\n",
              "      <td>0</td>\n",
              "      <td>263358.03</td>\n",
              "      <td>1.1</td>\n",
              "      <td>136</td>\n",
              "      <td>1</td>\n",
              "      <td>0</td>\n",
              "      <td>6</td>\n",
              "      <td>1</td>\n",
              "    </tr>\n",
              "    <tr>\n",
              "      <th>2</th>\n",
              "      <td>65.0</td>\n",
              "      <td>0</td>\n",
              "      <td>146</td>\n",
              "      <td>0</td>\n",
              "      <td>20</td>\n",
              "      <td>0</td>\n",
              "      <td>162000.00</td>\n",
              "      <td>1.3</td>\n",
              "      <td>129</td>\n",
              "      <td>1</td>\n",
              "      <td>1</td>\n",
              "      <td>7</td>\n",
              "      <td>1</td>\n",
              "    </tr>\n",
              "    <tr>\n",
              "      <th>3</th>\n",
              "      <td>50.0</td>\n",
              "      <td>1</td>\n",
              "      <td>111</td>\n",
              "      <td>0</td>\n",
              "      <td>20</td>\n",
              "      <td>0</td>\n",
              "      <td>210000.00</td>\n",
              "      <td>1.9</td>\n",
              "      <td>137</td>\n",
              "      <td>1</td>\n",
              "      <td>0</td>\n",
              "      <td>7</td>\n",
              "      <td>1</td>\n",
              "    </tr>\n",
              "    <tr>\n",
              "      <th>4</th>\n",
              "      <td>65.0</td>\n",
              "      <td>1</td>\n",
              "      <td>160</td>\n",
              "      <td>1</td>\n",
              "      <td>20</td>\n",
              "      <td>0</td>\n",
              "      <td>327000.00</td>\n",
              "      <td>2.7</td>\n",
              "      <td>116</td>\n",
              "      <td>0</td>\n",
              "      <td>0</td>\n",
              "      <td>8</td>\n",
              "      <td>1</td>\n",
              "    </tr>\n",
              "    <tr>\n",
              "      <th>5</th>\n",
              "      <td>90.0</td>\n",
              "      <td>1</td>\n",
              "      <td>47</td>\n",
              "      <td>0</td>\n",
              "      <td>40</td>\n",
              "      <td>1</td>\n",
              "      <td>204000.00</td>\n",
              "      <td>2.1</td>\n",
              "      <td>132</td>\n",
              "      <td>1</td>\n",
              "      <td>1</td>\n",
              "      <td>8</td>\n",
              "      <td>1</td>\n",
              "    </tr>\n",
              "    <tr>\n",
              "      <th>6</th>\n",
              "      <td>75.0</td>\n",
              "      <td>1</td>\n",
              "      <td>246</td>\n",
              "      <td>0</td>\n",
              "      <td>15</td>\n",
              "      <td>0</td>\n",
              "      <td>127000.00</td>\n",
              "      <td>1.2</td>\n",
              "      <td>137</td>\n",
              "      <td>1</td>\n",
              "      <td>0</td>\n",
              "      <td>10</td>\n",
              "      <td>1</td>\n",
              "    </tr>\n",
              "    <tr>\n",
              "      <th>7</th>\n",
              "      <td>60.0</td>\n",
              "      <td>1</td>\n",
              "      <td>315</td>\n",
              "      <td>1</td>\n",
              "      <td>60</td>\n",
              "      <td>0</td>\n",
              "      <td>454000.00</td>\n",
              "      <td>1.1</td>\n",
              "      <td>131</td>\n",
              "      <td>1</td>\n",
              "      <td>1</td>\n",
              "      <td>10</td>\n",
              "      <td>1</td>\n",
              "    </tr>\n",
              "    <tr>\n",
              "      <th>8</th>\n",
              "      <td>65.0</td>\n",
              "      <td>0</td>\n",
              "      <td>157</td>\n",
              "      <td>0</td>\n",
              "      <td>65</td>\n",
              "      <td>0</td>\n",
              "      <td>263358.03</td>\n",
              "      <td>1.5</td>\n",
              "      <td>138</td>\n",
              "      <td>0</td>\n",
              "      <td>0</td>\n",
              "      <td>10</td>\n",
              "      <td>1</td>\n",
              "    </tr>\n",
              "    <tr>\n",
              "      <th>9</th>\n",
              "      <td>80.0</td>\n",
              "      <td>1</td>\n",
              "      <td>123</td>\n",
              "      <td>0</td>\n",
              "      <td>35</td>\n",
              "      <td>1</td>\n",
              "      <td>388000.00</td>\n",
              "      <td>9.4</td>\n",
              "      <td>133</td>\n",
              "      <td>1</td>\n",
              "      <td>1</td>\n",
              "      <td>10</td>\n",
              "      <td>1</td>\n",
              "    </tr>\n",
              "  </tbody>\n",
              "</table>\n",
              "</div>"
            ],
            "text/plain": [
              "    age  anaemia  creatinine_phosphokinase  ...  smoking  time  DEATH_EVENT\n",
              "0  75.0        0                       582  ...        0     4            1\n",
              "1  55.0        0                      7861  ...        0     6            1\n",
              "2  65.0        0                       146  ...        1     7            1\n",
              "3  50.0        1                       111  ...        0     7            1\n",
              "4  65.0        1                       160  ...        0     8            1\n",
              "5  90.0        1                        47  ...        1     8            1\n",
              "6  75.0        1                       246  ...        0    10            1\n",
              "7  60.0        1                       315  ...        1    10            1\n",
              "8  65.0        0                       157  ...        0    10            1\n",
              "9  80.0        1                       123  ...        1    10            1\n",
              "\n",
              "[10 rows x 13 columns]"
            ]
          },
          "execution_count": 13,
          "metadata": {},
          "output_type": "execute_result"
        }
      ]
    },
    {
      "cell_type": "code",
      "metadata": {
        "colab": {
          "base_uri": "https://localhost:8080/"
        },
        "id": "_rFzVJq4OsLo",
        "outputId": "52499c6d-c94d-4a17-aea0-9281e506e3df"
      },
      "source": [
        "#information about dataset\n",
        "data.info()"
      ],
      "execution_count": null,
      "outputs": [
        {
          "name": "stdout",
          "output_type": "stream",
          "text": [
            "<class 'pandas.core.frame.DataFrame'>\n",
            "RangeIndex: 299 entries, 0 to 298\n",
            "Data columns (total 13 columns):\n",
            " #   Column                    Non-Null Count  Dtype  \n",
            "---  ------                    --------------  -----  \n",
            " 0   age                       299 non-null    float64\n",
            " 1   anaemia                   299 non-null    int64  \n",
            " 2   creatinine_phosphokinase  299 non-null    int64  \n",
            " 3   diabetes                  299 non-null    int64  \n",
            " 4   ejection_fraction         299 non-null    int64  \n",
            " 5   high_blood_pressure       299 non-null    int64  \n",
            " 6   platelets                 299 non-null    float64\n",
            " 7   serum_creatinine          299 non-null    float64\n",
            " 8   serum_sodium              299 non-null    int64  \n",
            " 9   sex                       299 non-null    int64  \n",
            " 10  smoking                   299 non-null    int64  \n",
            " 11  time                      299 non-null    int64  \n",
            " 12  DEATH_EVENT               299 non-null    int64  \n",
            "dtypes: float64(3), int64(10)\n",
            "memory usage: 30.5 KB\n"
          ]
        }
      ]
    },
    {
      "cell_type": "markdown",
      "metadata": {
        "id": "6_u3LUcneXMI"
      },
      "source": [
        "There are total 13 columns.Target column is a \"DEATH EVENT \" column.There is no Null value in the dataset."
      ]
    },
    {
      "cell_type": "code",
      "metadata": {
        "colab": {
          "base_uri": "https://localhost:8080/"
        },
        "id": "vKlZaTWAvfC1",
        "outputId": "0cda4124-9677-43ea-d468-7a6d58357f76"
      },
      "source": [
        "# check the duplicate values\n",
        "data.duplicated().sum()"
      ],
      "execution_count": null,
      "outputs": [
        {
          "data": {
            "text/plain": [
              "0"
            ]
          },
          "execution_count": 15,
          "metadata": {},
          "output_type": "execute_result"
        }
      ]
    },
    {
      "cell_type": "markdown",
      "metadata": {
        "id": "rtHc1telfb4G"
      },
      "source": [
        "To be consistent with the feature description let's represent the platelets as kiloplatelets/mL"
      ]
    },
    {
      "cell_type": "code",
      "metadata": {
        "colab": {
          "base_uri": "https://localhost:8080/"
        },
        "id": "JkWZMsvLfhsY",
        "outputId": "a68b4b06-ddbc-4171-cfc4-2cb460d64b75"
      },
      "source": [
        "data.platelets = data.platelets/1000\n",
        "print(data.platelets)"
      ],
      "execution_count": null,
      "outputs": [
        {
          "output_type": "stream",
          "name": "stdout",
          "text": [
            "0      265.00000\n",
            "1      263.35803\n",
            "2      162.00000\n",
            "3      210.00000\n",
            "4      327.00000\n",
            "         ...    \n",
            "294    155.00000\n",
            "295    270.00000\n",
            "296    742.00000\n",
            "297    140.00000\n",
            "298    395.00000\n",
            "Name: platelets, Length: 299, dtype: float64\n"
          ]
        }
      ]
    },
    {
      "cell_type": "markdown",
      "metadata": {
        "id": "y4sTImmQgVxQ"
      },
      "source": [
        "Let's look at the dataset"
      ]
    },
    {
      "cell_type": "code",
      "metadata": {
        "colab": {
          "base_uri": "https://localhost:8080/",
          "height": 203
        },
        "id": "wjYnUPogf-BC",
        "outputId": "d7095a40-9bfe-4658-bd34-2e6dfc20f366"
      },
      "source": [
        "data.head()"
      ],
      "execution_count": null,
      "outputs": [
        {
          "data": {
            "text/html": [
              "<div>\n",
              "<style scoped>\n",
              "    .dataframe tbody tr th:only-of-type {\n",
              "        vertical-align: middle;\n",
              "    }\n",
              "\n",
              "    .dataframe tbody tr th {\n",
              "        vertical-align: top;\n",
              "    }\n",
              "\n",
              "    .dataframe thead th {\n",
              "        text-align: right;\n",
              "    }\n",
              "</style>\n",
              "<table border=\"1\" class=\"dataframe\">\n",
              "  <thead>\n",
              "    <tr style=\"text-align: right;\">\n",
              "      <th></th>\n",
              "      <th>age</th>\n",
              "      <th>anaemia</th>\n",
              "      <th>creatinine_phosphokinase</th>\n",
              "      <th>diabetes</th>\n",
              "      <th>ejection_fraction</th>\n",
              "      <th>high_blood_pressure</th>\n",
              "      <th>platelets</th>\n",
              "      <th>serum_creatinine</th>\n",
              "      <th>serum_sodium</th>\n",
              "      <th>sex</th>\n",
              "      <th>smoking</th>\n",
              "      <th>time</th>\n",
              "      <th>DEATH_EVENT</th>\n",
              "    </tr>\n",
              "  </thead>\n",
              "  <tbody>\n",
              "    <tr>\n",
              "      <th>0</th>\n",
              "      <td>75.0</td>\n",
              "      <td>0</td>\n",
              "      <td>582</td>\n",
              "      <td>0</td>\n",
              "      <td>20</td>\n",
              "      <td>1</td>\n",
              "      <td>265.00000</td>\n",
              "      <td>1.9</td>\n",
              "      <td>130</td>\n",
              "      <td>1</td>\n",
              "      <td>0</td>\n",
              "      <td>4</td>\n",
              "      <td>1</td>\n",
              "    </tr>\n",
              "    <tr>\n",
              "      <th>1</th>\n",
              "      <td>55.0</td>\n",
              "      <td>0</td>\n",
              "      <td>7861</td>\n",
              "      <td>0</td>\n",
              "      <td>38</td>\n",
              "      <td>0</td>\n",
              "      <td>263.35803</td>\n",
              "      <td>1.1</td>\n",
              "      <td>136</td>\n",
              "      <td>1</td>\n",
              "      <td>0</td>\n",
              "      <td>6</td>\n",
              "      <td>1</td>\n",
              "    </tr>\n",
              "    <tr>\n",
              "      <th>2</th>\n",
              "      <td>65.0</td>\n",
              "      <td>0</td>\n",
              "      <td>146</td>\n",
              "      <td>0</td>\n",
              "      <td>20</td>\n",
              "      <td>0</td>\n",
              "      <td>162.00000</td>\n",
              "      <td>1.3</td>\n",
              "      <td>129</td>\n",
              "      <td>1</td>\n",
              "      <td>1</td>\n",
              "      <td>7</td>\n",
              "      <td>1</td>\n",
              "    </tr>\n",
              "    <tr>\n",
              "      <th>3</th>\n",
              "      <td>50.0</td>\n",
              "      <td>1</td>\n",
              "      <td>111</td>\n",
              "      <td>0</td>\n",
              "      <td>20</td>\n",
              "      <td>0</td>\n",
              "      <td>210.00000</td>\n",
              "      <td>1.9</td>\n",
              "      <td>137</td>\n",
              "      <td>1</td>\n",
              "      <td>0</td>\n",
              "      <td>7</td>\n",
              "      <td>1</td>\n",
              "    </tr>\n",
              "    <tr>\n",
              "      <th>4</th>\n",
              "      <td>65.0</td>\n",
              "      <td>1</td>\n",
              "      <td>160</td>\n",
              "      <td>1</td>\n",
              "      <td>20</td>\n",
              "      <td>0</td>\n",
              "      <td>327.00000</td>\n",
              "      <td>2.7</td>\n",
              "      <td>116</td>\n",
              "      <td>0</td>\n",
              "      <td>0</td>\n",
              "      <td>8</td>\n",
              "      <td>1</td>\n",
              "    </tr>\n",
              "  </tbody>\n",
              "</table>\n",
              "</div>"
            ],
            "text/plain": [
              "    age  anaemia  creatinine_phosphokinase  ...  smoking  time  DEATH_EVENT\n",
              "0  75.0        0                       582  ...        0     4            1\n",
              "1  55.0        0                      7861  ...        0     6            1\n",
              "2  65.0        0                       146  ...        1     7            1\n",
              "3  50.0        1                       111  ...        0     7            1\n",
              "4  65.0        1                       160  ...        0     8            1\n",
              "\n",
              "[5 rows x 13 columns]"
            ]
          },
          "execution_count": 17,
          "metadata": {},
          "output_type": "execute_result"
        }
      ]
    },
    {
      "cell_type": "markdown",
      "metadata": {
        "id": "CEWVlqPdhReB"
      },
      "source": [
        "# Feature distributions \n",
        "We can see how features are distributed according to label."
      ]
    },
    {
      "cell_type": "code",
      "metadata": {
        "id": "ZcZbjaj7hZMM"
      },
      "source": [
        "numerical_features = [\"age\", \"creatinine_phosphokinase\", \"ejection_fraction\", \"platelets\", \"serum_creatinine\", \"serum_sodium\"]\n",
        "categorical_features = [\"anaemia\", \"diabetes\", \"high_blood_pressure\", \"sex\", \"smoking\"]"
      ],
      "execution_count": null,
      "outputs": []
    },
    {
      "cell_type": "markdown",
      "metadata": {
        "id": "QkLqfwV1AYSB"
      },
      "source": [
        "### Class Imbalance Issue"
      ]
    },
    {
      "cell_type": "code",
      "metadata": {
        "colab": {
          "base_uri": "https://localhost:8080/",
          "height": 341
        },
        "id": "K2KYa05g_8M0",
        "outputId": "72c7c271-7e26-4a98-df72-12d420bd81ae"
      },
      "source": [
        "target_count = data.DEATH_EVENT.value_counts()\n",
        "death_color = ['navy', 'crimson']\n",
        "with plt.style.context('ggplot'):\n",
        "    plt.figure(figsize=(6, 5))\n",
        "    sns.countplot(data=data, x='DEATH_EVENT', palette=death_color)\n",
        "    for name , val in zip(target_count.index, target_count.values):\n",
        "        plt.text(name, val/2, f'{round(val/sum(target_count)*100, 2)}%\\n({val})', ha='center',\n",
        "                color='white', fontdict={'fontsize':13})\n",
        "    plt.xticks(ticks=target_count.index, labels=['No', 'True'])\n",
        "    plt.yticks(np.arange(0, 230, 25))\n",
        "    plt.show()"
      ],
      "execution_count": null,
      "outputs": [
        {
          "data": {
            "image/png": "[encoded data removed]",
            "text/plain": [
              "<Figure size 432x360 with 1 Axes>"
            ]
          },
          "metadata": {},
          "output_type": "display_data"
        }
      ]
    },
    {
      "cell_type": "markdown",
      "metadata": {
        "id": "lRckzchQ9LFK"
      },
      "source": [
        "As we can see, even if not so strong, there is a class imbalance.\n",
        "This can leads to biased results that can be noticed in results.\n",
        "To handle class inbalance it's possible to re-balance the dataset with different techniques."
      ]
    },
    {
      "cell_type": "markdown",
      "metadata": {
        "id": "a96_2f5wh9X-"
      },
      "source": [
        "## Distribution of numeric feature\n",
        "Firstly we plot the numerical features (omitting time because is not used in the prediction).\n",
        "In this case we plot the kernel density estimation with a kdeplot to better see the distribution along with the boxplot."
      ]
    },
    {
      "cell_type": "code",
      "metadata": {
        "colab": {
          "base_uri": "https://localhost:8080/",
          "height": 787
        },
        "id": "fXqEr5kxhwsk",
        "outputId": "8970cd56-0782-46d0-e9c2-e7512371a13b"
      },
      "source": [
        "plt.figure(figsize=(18, 27))\n",
        "\n",
        "for i, col in enumerate(numerical_features):\n",
        "    plt.subplot(6, 4, i*2+1)\n",
        "    plt.subplots_adjust(hspace =.25, wspace=.3)\n",
        "    \n",
        "    plt.grid(True)\n",
        "    plt.title(col)\n",
        "    sns.kdeplot(data.loc[data[\"DEATH_EVENT\"]==0, col], label=\"alive\", color = \"#990303\", shade=True, kernel='gau', cut=0)\n",
        "    sns.kdeplot(data.loc[data[\"DEATH_EVENT\"]==1, col], label=\"dead\",  color = \"#292323\", shade=True, kernel='gau', cut=0)\n",
        "    plt.subplot(6, 4, i*2+2) \n",
        "    sns.boxplot(y = col, data = data, x=\"DEATH_EVENT\", palette = [\"#990303\", \"#9C9999\"])   "
      ],
      "execution_count": null,
      "outputs": [
        {
          "output_type": "display_data",
          "data": {
            "image/png": "[encoded data removed]",
            "text/plain": [
              "<Figure size 1296x1944 with 12 Axes>"
            ]
          },
          "metadata": {
            "needs_background": "light"
          }
        }
      ]
    },
    {
      "cell_type": "markdown",
      "metadata": {
        "id": "sQIxuV9gjP3i"
      },
      "source": [
        "From the plot above, the most informative attributes seem to be ejection_fraction and serum_creatinine."
      ]
    },
    {
      "cell_type": "markdown",
      "metadata": {
        "id": "URNR1CnCjiye"
      },
      "source": [
        "Here, ploting categorical feature with target feature."
      ]
    },
    {
      "cell_type": "code",
      "metadata": {
        "colab": {
          "base_uri": "https://localhost:8080/",
          "height": 513
        },
        "id": "XAqyWFMxjXur",
        "outputId": "ccd327e6-4757-4a94-b76e-50cbd383583b"
      },
      "source": [
        "plt.figure(figsize=(12, 8))\n",
        "\n",
        "for i, col in enumerate(categorical_features):\n",
        "    plt.subplot(2, 3, i+1)\n",
        "    plt.title(col)\n",
        "    plt.subplots_adjust(hspace =.5, wspace=.3)\n",
        "    sns.countplot(data=data, x=col, hue=\"DEATH_EVENT\", palette = [\"#990303\", \"#9C9999\"], alpha=0.8, edgecolor=\"k\", linewidth=1)"
      ],
      "execution_count": null,
      "outputs": [
        {
          "data": {
            "image/png": "[encoded data removed]",
            "text/plain": [
              "<Figure size 864x576 with 5 Axes>"
            ]
          },
          "metadata": {},
          "output_type": "display_data"
        }
      ]
    },
    {
      "cell_type": "markdown",
      "metadata": {
        "id": "vBXX_xLYg_YG"
      },
      "source": [
        "We observe that numerical features have different scale, so we scale the features first."
      ]
    },
    {
      "cell_type": "code",
      "metadata": {
        "id": "DcToGZFgyuD1"
      },
      "source": [
        "data = data.copy()\n",
        "\n",
        "for i, col in enumerate(numerical_features):\n",
        "    data[[col]] = StandardScaler(with_mean=True, with_std=True).fit_transform(data[[col]])\n",
        "    "
      ],
      "execution_count": null,
      "outputs": []
    },
    {
      "cell_type": "code",
      "metadata": {
        "colab": {
          "base_uri": "https://localhost:8080/",
          "height": 203
        },
        "id": "gydlYo5p0R6T",
        "outputId": "2b77c027-92ef-4a5c-cec0-dc2b47f8cce5"
      },
      "source": [
        "data.head()"
      ],
      "execution_count": null,
      "outputs": [
        {
          "data": {
            "text/html": [
              "<div>\n",
              "<style scoped>\n",
              "    .dataframe tbody tr th:only-of-type {\n",
              "        vertical-align: middle;\n",
              "    }\n",
              "\n",
              "    .dataframe tbody tr th {\n",
              "        vertical-align: top;\n",
              "    }\n",
              "\n",
              "    .dataframe thead th {\n",
              "        text-align: right;\n",
              "    }\n",
              "</style>\n",
              "<table border=\"1\" class=\"dataframe\">\n",
              "  <thead>\n",
              "    <tr style=\"text-align: right;\">\n",
              "      <th></th>\n",
              "      <th>age</th>\n",
              "      <th>anaemia</th>\n",
              "      <th>creatinine_phosphokinase</th>\n",
              "      <th>diabetes</th>\n",
              "      <th>ejection_fraction</th>\n",
              "      <th>high_blood_pressure</th>\n",
              "      <th>platelets</th>\n",
              "      <th>serum_creatinine</th>\n",
              "      <th>serum_sodium</th>\n",
              "      <th>sex</th>\n",
              "      <th>smoking</th>\n",
              "      <th>time</th>\n",
              "      <th>DEATH_EVENT</th>\n",
              "    </tr>\n",
              "  </thead>\n",
              "  <tbody>\n",
              "    <tr>\n",
              "      <th>0</th>\n",
              "      <td>1.192945</td>\n",
              "      <td>0</td>\n",
              "      <td>0.000166</td>\n",
              "      <td>0</td>\n",
              "      <td>-1.530560</td>\n",
              "      <td>1</td>\n",
              "      <td>1.681648e-02</td>\n",
              "      <td>0.490057</td>\n",
              "      <td>-1.504036</td>\n",
              "      <td>1</td>\n",
              "      <td>0</td>\n",
              "      <td>4</td>\n",
              "      <td>1</td>\n",
              "    </tr>\n",
              "    <tr>\n",
              "      <th>1</th>\n",
              "      <td>-0.491279</td>\n",
              "      <td>0</td>\n",
              "      <td>7.514640</td>\n",
              "      <td>0</td>\n",
              "      <td>-0.007077</td>\n",
              "      <td>0</td>\n",
              "      <td>7.535660e-09</td>\n",
              "      <td>-0.284552</td>\n",
              "      <td>-0.141976</td>\n",
              "      <td>1</td>\n",
              "      <td>0</td>\n",
              "      <td>6</td>\n",
              "      <td>1</td>\n",
              "    </tr>\n",
              "    <tr>\n",
              "      <th>2</th>\n",
              "      <td>0.350833</td>\n",
              "      <td>0</td>\n",
              "      <td>-0.449939</td>\n",
              "      <td>0</td>\n",
              "      <td>-1.530560</td>\n",
              "      <td>0</td>\n",
              "      <td>-1.038073e+00</td>\n",
              "      <td>-0.090900</td>\n",
              "      <td>-1.731046</td>\n",
              "      <td>1</td>\n",
              "      <td>1</td>\n",
              "      <td>7</td>\n",
              "      <td>1</td>\n",
              "    </tr>\n",
              "    <tr>\n",
              "      <th>3</th>\n",
              "      <td>-0.912335</td>\n",
              "      <td>1</td>\n",
              "      <td>-0.486071</td>\n",
              "      <td>0</td>\n",
              "      <td>-1.530560</td>\n",
              "      <td>0</td>\n",
              "      <td>-5.464741e-01</td>\n",
              "      <td>0.490057</td>\n",
              "      <td>0.085034</td>\n",
              "      <td>1</td>\n",
              "      <td>0</td>\n",
              "      <td>7</td>\n",
              "      <td>1</td>\n",
              "    </tr>\n",
              "    <tr>\n",
              "      <th>4</th>\n",
              "      <td>0.350833</td>\n",
              "      <td>1</td>\n",
              "      <td>-0.435486</td>\n",
              "      <td>1</td>\n",
              "      <td>-1.530560</td>\n",
              "      <td>0</td>\n",
              "      <td>6.517986e-01</td>\n",
              "      <td>1.264666</td>\n",
              "      <td>-4.682176</td>\n",
              "      <td>0</td>\n",
              "      <td>0</td>\n",
              "      <td>8</td>\n",
              "      <td>1</td>\n",
              "    </tr>\n",
              "  </tbody>\n",
              "</table>\n",
              "</div>"
            ],
            "text/plain": [
              "        age  anaemia  creatinine_phosphokinase  ...  smoking  time  DEATH_EVENT\n",
              "0  1.192945        0                  0.000166  ...        0     4            1\n",
              "1 -0.491279        0                  7.514640  ...        0     6            1\n",
              "2  0.350833        0                 -0.449939  ...        1     7            1\n",
              "3 -0.912335        1                 -0.486071  ...        0     7            1\n",
              "4  0.350833        1                 -0.435486  ...        0     8            1\n",
              "\n",
              "[5 rows x 13 columns]"
            ]
          },
          "execution_count": 23,
          "metadata": {},
          "output_type": "execute_result"
        }
      ]
    },
    {
      "cell_type": "markdown",
      "metadata": {
        "id": "fIUSgTBujAhJ"
      },
      "source": [
        "## Correlation Matrix\n",
        "To see how features are correlated is useful to look at the correlation matrix that is a matrix in which are showed the correlation values of each couple of features according to the Pearson's correlation coefficient:"
      ]
    },
    {
      "cell_type": "code",
      "metadata": {
        "colab": {
          "base_uri": "https://localhost:8080/",
          "height": 553
        },
        "id": "p4FkkGkyxltH",
        "outputId": "b3b581c8-dfa4-4be2-a392-207be145dee1"
      },
      "source": [
        "all_features = categorical_features.copy()\n",
        "all_features.extend(numerical_features)\n",
        "plt.figure(figsize=(8, 7))\n",
        "sns.heatmap(data[all_features].corr(method='pearson'), vmin=-1, vmax=1, cmap='viridis', annot=True, fmt='.2f');\n"
      ],
      "execution_count": null,
      "outputs": [
        {
          "data": {
            "image/png": "[encoded data removed]",
            "text/plain": [
              "<Figure size 576x504 with 2 Axes>"
            ]
          },
          "metadata": {},
          "output_type": "display_data"
        }
      ]
    },
    {
      "cell_type": "markdown",
      "metadata": {
        "id": "jlyqDp-1ztW0"
      },
      "source": [
        "From the heatmap we can see that in general, features are quite uncorrelated with the exception of sex and smoking that seems to be slightly positively correlated."
      ]
    },
    {
      "cell_type": "markdown",
      "metadata": {
        "id": "OItmLG8NC2ka"
      },
      "source": [
        "## Point 1 - Fit Logistic Regression\n",
        "After understanding the dataset our first point is to\n",
        "Fit a traditional logistic regression model without any regularization penalty (you’ll do this later) to the data, using bootstrapping (size of 10,000 should work) and compute a 95% empirical confidence interval (CI) for each one of the coefficients."
      ]
    },
    {
      "cell_type": "markdown",
      "metadata": {
        "id": "9bYpb4LhFTf4"
      },
      "source": [
        "### What is BootStraping:\n",
        "\n",
        "\n",
        "A method to estimate a Statictic sampling distribution. Bootstrap sample are drawn repeatedly with replacement from the original data.Bootstrap not used for the point estimation.\n",
        "This technique is used in machine learning to estimate the skill of machine learning models when making predictions on data not included in the training set. This technique helps to fine tune the model even before we give it access to test data (real world data). This allows us to tweak the model hyperparameters to achieve the best score.\n",
        "A desirable property of the results from estimating machine learning model skills is that the estimated skill can be presented with confidence intervals, a feature not readily available with other methods such as Cross Validation.\n",
        "\n",
        "\n",
        "\n",
        "\n",
        "\n",
        "\n"
      ]
    },
    {
      "cell_type": "markdown",
      "metadata": {
        "id": "eaUeuVQ603Vr"
      },
      "source": [
        "### Bootstrap sampling method and Logistic Regression without Regulization"
      ]
    },
    {
      "cell_type": "code",
      "metadata": {
        "colab": {
          "base_uri": "https://localhost:8080/"
        },
        "id": "fb4pvevXVsQk",
        "outputId": "60c69466-6256-4c06-c3d6-b330cf2a5434"
      },
      "source": [
        "# configure bootstrap\n",
        "n_iterations = 10000  #No. of bootstrap samples to be repeated (created)\n",
        "n_size = int(len(data) * 0.50)  #Size of sample, picking only 50% of the given data in every bootstrap sample\n",
        "\n",
        "#Lets run Bootstrap\n",
        "stats = list()\n",
        "for i in range(n_iterations):\n",
        "\t# prepare train and test sets\n",
        "    train = resample(values, n_samples=n_size)   #Sampling with replacement..whichever is not used in training data will be used in test data\n",
        "    \n",
        "    test = numpy.array([x for x in values if x.tolist() not in train.tolist()])  #picking rest of the data not considered in training sample\n",
        "    # fit model\n",
        "    model = LogisticRegression()\n",
        "    model.fit(train[:,:-1], train[:,-1])  #model.fit(X_train,y_train) i.e model.fit(train set, train label as it is a classifier)\n",
        "    \n",
        "\t# evaluate model\n",
        "    predictions = model.predict(test[:,:-1])   #model.predict(X_test)\n",
        "    score = accuracy_score(test[:,-1], predictions)  #accuracy_score(y_test, y_pred)\n",
        "    #print(score)\n",
        "    stats.append(score)\n",
        "print(score)\n",
        "\n",
        "\n"
      ],
      "execution_count": null,
      "outputs": [
        {
          "name": "stdout",
          "output_type": "stream",
          "text": [
            "0.8156424581005587\n"
          ]
        }
      ]
    },
    {
      "cell_type": "markdown",
      "metadata": {
        "id": "I1XnQONf5l7C"
      },
      "source": [
        "Here each Bootstrap iteration sample would create one model and this model is tested against the Out of Bag (test data) of that sample, i.e we will test that sample with the test sample not part of that sample."
      ]
    },
    {
      "cell_type": "markdown",
      "metadata": {
        "id": "QHMl7yo23r5B"
      },
      "source": [
        "### confidence interval"
      ]
    },
    {
      "cell_type": "markdown",
      "metadata": {
        "id": "3L9KQVcH4ANh"
      },
      "source": [
        "Confidence intervals refers to the % of all possible samples that can be expected to include the true population parameter.\n",
        "\n",
        "For eg. 95% of all samples would be found in this interval range."
      ]
    },
    {
      "cell_type": "code",
      "metadata": {
        "colab": {
          "base_uri": "https://localhost:8080/"
        },
        "id": "Fgj4vPPa0073",
        "outputId": "e366bd5d-955a-466b-87d6-652eed3f5723"
      },
      "source": [
        "plt.hist(stats)\n",
        "plt.figure(figsize = (10,5))\n",
        "\n",
        "alpha = 0.95  # for 95% confidence\n",
        "\n",
        "p = ((1.0-alpha)/2.0) * 100   #tail regions on right and left .25 on each side indicated by P value (border)\n",
        "#1.0 is total area of this curve, 2.0 is actually .025 thats the space we would want to be \n",
        "#left on either side\n",
        "lower = max(0.0, numpy.percentile(stats, p))  \n",
        "\n",
        "p = (alpha+((1.0-alpha)/2.0)) * 100  #p is limits\n",
        "\n",
        "upper = min(1.0, numpy.percentile(stats, p))\n",
        "\n",
        "print('%.1f confidence interval %.1f%% and %.1f%%' %(alpha*100, lower*100, upper*100))\n",
        "\n"
      ],
      "execution_count": null,
      "outputs": [
        {
          "name": "stdout",
          "output_type": "stream",
          "text": [
            "95.0 confidence interval 74.9% and 85.1%\n"
          ]
        },
        {
          "data": {
            "image/png": "[encoded data removed]",
            "text/plain": [
              "<Figure size 432x288 with 1 Axes>"
            ]
          },
          "metadata": {},
          "output_type": "display_data"
        },
        {
          "data": {
            "text/plain": [
              "<Figure size 720x360 with 0 Axes>"
            ]
          },
          "metadata": {},
          "output_type": "display_data"
        }
      ]
    },
    {
      "cell_type": "markdown",
      "metadata": {
        "id": "8M6LujWTki9o"
      },
      "source": [
        "# Point 2 - L1 (Lasso) regularization \n",
        "Add an L1 (Lasso) regularization penalty to the logistic model with varying values of the regularization strength hyperparameter (aka C, alpha, lambda). For each value of the hyperparameter, use the same bootstrapping procedure from part 1 to determine the 95% empirical CIs of the coefficient estimates. In your notebook as well as presentation, explain the relationship between the hyperparameter values you attempted and the resulting CIs you obtained for the estimates. As you manipulate the hyperparameter (increasing or decreasing), what happens to the CIs and why?"
      ]
    },
    {
      "cell_type": "markdown",
      "metadata": {
        "id": "RPuOsxj7-4gZ"
      },
      "source": [
        "### Logictis Regression with Regulization"
      ]
    },
    {
      "cell_type": "code",
      "metadata": {
        "colab": {
          "background_save": true
        },
        "id": "ZYaC0Zr5b9d8",
        "outputId": "bf0ed332-903e-4258-c1fa-7325114d7023"
      },
      "source": [
        "\n",
        "\n",
        "# configure bootstrap\n",
        "n_iterations = 10000#No. of bootstrap samples to be repeated (created) \n",
        "n_size = int(len(data) * 0.50)  #Size of sample, picking only 50% of the given data in every bootstrap sample\n",
        "#Lets run Bootstrap\n",
        "stats = list()\n",
        "df = pd.DataFrame( columns=['C', 'penalty', 'solver'])\n",
        "df1 = pd.DataFrame(columns=['Best', 'Lower', 'Upper'] )\n",
        "bestlst=[]\n",
        "lowerlst=[]\n",
        "upperlst=[]\n",
        "for i in range(n_iterations):\n",
        "\t# prepare train and test sets\n",
        "    train = resample(values, n_samples=n_size)  #Sampling with replacement..whichever is not used in training data will be used in test data\n",
        "\n",
        "    test = numpy.array([x for x in values if x.tolist() not in train.tolist()])  #picking rest of the data not considered in training sample\n",
        "    # fit model\n",
        "    # fit model\n",
        "    model = LogisticRegression()\n",
        "    solvers = ['newton-cg', 'lbfgs', 'liblinear'] \n",
        "    alpha=    [ 0.02, 0.024, 0.025, 0.026, 0.03]\n",
        "    penalty = ['l1']  # lasso\n",
        "    c_values = [0, 0.00001, 0.0001, 0.001, 0.01, 0.1] # different values of C hayperparameters\n",
        "                #[0.001,0.01,0.1,1,10,100]\n",
        "# define grid search\n",
        "    grid = dict(solver=solvers,penalty=penalty,C=c_values)\n",
        "    cv = RepeatedStratifiedKFold(n_splits=10, n_repeats=3, random_state=1)\n",
        "    grid_search = GridSearchCV(estimator=model, param_grid=grid, n_jobs=-1, cv=cv, scoring='accuracy',error_score=0)\n",
        "    grid_result =grid_search.fit (train[:,:-1], train[:,-1])  #model.fit(X_train,y_train) i.e model.fit using grid search(train set, train label as it is a classifier)\n",
        "    #print(\"Best: %f using %s\" % (grid_result.best_score_, grid_result.best_params_,))\n",
        "    \n",
        "# summarize results\n",
        "    \n",
        "    predictions = grid_search.predict(test[:,:-1])  #model.predict(X_test)\n",
        "    score = accuracy_score(test[:,-1], predictions)  #accuracy_score(y_test, y_pred)\n",
        "    #print(score)\n",
        "    stats.append(score)\n",
        "    data=(  grid_result.best_params_,)\n",
        "    \n",
        "    \n",
        "    para=( grid_result.best_score_,)\n",
        "    my_result = float('.'.join(str(elem) for elem in para))\n",
        "\n",
        "    df = df.append( pd.DataFrame.from_records(data))\n",
        "    \n",
        "    alpha = 0.95  # for 95% confidence\n",
        "\n",
        "    p = ((1.0-alpha)/2.0) * 100   #tail regions on right and left .25 on each side indicated by P value (border)\n",
        "#1.0 is total area of this curve, 2.0 is actually .025 thats the space we would want to be \n",
        "#left on either side\n",
        "    lower = max(0.0, numpy.percentile(stats, p))  \n",
        "\n",
        "    p = (alpha+((1.0-alpha)/2.0)) * 100  #p is limits\n",
        "    upper = min(1.0, numpy.percentile(stats, p))\n",
        "    #df['lower']=lower\n",
        "    #df['upper']=upper\n",
        "   \n",
        "    #print('%.1f confidence interval %.1f%% and %.1f%%' %(alpha*100, lower*100, upper*100))\n",
        "   \n",
        " \n",
        "    \n",
        "    bestlst.append(my_result)\n",
        "    lowerlst.append(lower)\n",
        "    upperlst.append(upper)\n",
        "df['Best'] = bestlst\n",
        "df['Lower'] = lowerlst\n",
        "df['Upper'] = upperlst\n",
        "plt.hist(stats)\n",
        "plt.figure(figsize = (10,5))\n",
        "print((grid_result.best_score_,  grid_result.best_params_,))\n",
        "print('%.1f confidence interval %.1f%% and %.1f%%' %(alpha*100, lower*100, upper*100))  \n",
        "   \n",
        "    "
      ],
      "execution_count": null,
      "outputs": [
        {
          "name": "stdout",
          "output_type": "stream",
          "text": [
            "(0.867936507936508, {'C': 0.1, 'penalty': 'l1', 'solver': 'liblinear'})\n",
            "95.0 confidence interval 76.1% and 85.5%\n"
          ]
        },
        {
          "data": {
            "image/png": "[encoded data removed]",
            "text/plain": [
              "<Figure size 432x288 with 1 Axes>"
            ]
          },
          "metadata": {},
          "output_type": "display_data"
        },
        {
          "data": {
            "text/plain": [
              "<Figure size 720x360 with 0 Axes>"
            ]
          },
          "metadata": {},
          "output_type": "display_data"
        }
      ]
    },
    {
      "cell_type": "code",
      "metadata": {
        "id": "7T5ppPPLV8yq",
        "colab": {
          "base_uri": "https://localhost:8080/",
          "height": 204
        },
        "outputId": "f344d5b0-da77-44b7-850b-613d7ae3e6fa"
      },
      "source": [
        "df.head()"
      ],
      "execution_count": null,
      "outputs": [
        {
          "output_type": "execute_result",
          "data": {
            "text/html": [
              "<div>\n",
              "<style scoped>\n",
              "    .dataframe tbody tr th:only-of-type {\n",
              "        vertical-align: middle;\n",
              "    }\n",
              "\n",
              "    .dataframe tbody tr th {\n",
              "        vertical-align: top;\n",
              "    }\n",
              "\n",
              "    .dataframe thead th {\n",
              "        text-align: right;\n",
              "    }\n",
              "</style>\n",
              "<table border=\"1\" class=\"dataframe\">\n",
              "  <thead>\n",
              "    <tr style=\"text-align: right;\">\n",
              "      <th></th>\n",
              "      <th>C</th>\n",
              "      <th>penalty</th>\n",
              "      <th>solver</th>\n",
              "      <th>Best</th>\n",
              "      <th>Lower</th>\n",
              "      <th>Upper</th>\n",
              "    </tr>\n",
              "  </thead>\n",
              "  <tbody>\n",
              "    <tr>\n",
              "      <th>0</th>\n",
              "      <td>0.10</td>\n",
              "      <td>l1</td>\n",
              "      <td>liblinear</td>\n",
              "      <td>0.823651</td>\n",
              "      <td>0.786885</td>\n",
              "      <td>0.786885</td>\n",
              "    </tr>\n",
              "    <tr>\n",
              "      <th>0</th>\n",
              "      <td>0.10</td>\n",
              "      <td>l1</td>\n",
              "      <td>liblinear</td>\n",
              "      <td>0.798413</td>\n",
              "      <td>0.787543</td>\n",
              "      <td>0.812529</td>\n",
              "    </tr>\n",
              "    <tr>\n",
              "      <th>0</th>\n",
              "      <td>0.01</td>\n",
              "      <td>l1</td>\n",
              "      <td>liblinear</td>\n",
              "      <td>0.791905</td>\n",
              "      <td>0.788200</td>\n",
              "      <td>0.830605</td>\n",
              "    </tr>\n",
              "    <tr>\n",
              "      <th>0</th>\n",
              "      <td>0.01</td>\n",
              "      <td>l1</td>\n",
              "      <td>liblinear</td>\n",
              "      <td>0.800794</td>\n",
              "      <td>0.787191</td>\n",
              "      <td>0.830147</td>\n",
              "    </tr>\n",
              "    <tr>\n",
              "      <th>0</th>\n",
              "      <td>0.10</td>\n",
              "      <td>l1</td>\n",
              "      <td>liblinear</td>\n",
              "      <td>0.839365</td>\n",
              "      <td>0.787293</td>\n",
              "      <td>0.841304</td>\n",
              "    </tr>\n",
              "  </tbody>\n",
              "</table>\n",
              "</div>"
            ],
            "text/plain": [
              "      C penalty     solver      Best     Lower     Upper\n",
              "0  0.10      l1  liblinear  0.823651  0.786885  0.786885\n",
              "0  0.10      l1  liblinear  0.798413  0.787543  0.812529\n",
              "0  0.01      l1  liblinear  0.791905  0.788200  0.830605\n",
              "0  0.01      l1  liblinear  0.800794  0.787191  0.830147\n",
              "0  0.10      l1  liblinear  0.839365  0.787293  0.841304"
            ]
          },
          "metadata": {},
          "execution_count": 4
        }
      ]
    },
    {
      "cell_type": "code",
      "metadata": {
        "colab": {
          "base_uri": "https://localhost:8080/",
          "height": 204
        },
        "id": "YTmtymU8x7HV",
        "outputId": "c6567e3a-d4c4-4505-bde9-f0d3235c4b22"
      },
      "source": [
        "df.tail()"
      ],
      "execution_count": null,
      "outputs": [
        {
          "output_type": "execute_result",
          "data": {
            "text/html": [
              "<div>\n",
              "<style scoped>\n",
              "    .dataframe tbody tr th:only-of-type {\n",
              "        vertical-align: middle;\n",
              "    }\n",
              "\n",
              "    .dataframe tbody tr th {\n",
              "        vertical-align: top;\n",
              "    }\n",
              "\n",
              "    .dataframe thead th {\n",
              "        text-align: right;\n",
              "    }\n",
              "</style>\n",
              "<table border=\"1\" class=\"dataframe\">\n",
              "  <thead>\n",
              "    <tr style=\"text-align: right;\">\n",
              "      <th></th>\n",
              "      <th>C</th>\n",
              "      <th>penalty</th>\n",
              "      <th>solver</th>\n",
              "      <th>Best</th>\n",
              "      <th>Lower</th>\n",
              "      <th>Upper</th>\n",
              "    </tr>\n",
              "  </thead>\n",
              "  <tbody>\n",
              "    <tr>\n",
              "      <th>0</th>\n",
              "      <td>0.100</td>\n",
              "      <td>l1</td>\n",
              "      <td>liblinear</td>\n",
              "      <td>0.820635</td>\n",
              "      <td>0.76087</td>\n",
              "      <td>0.854839</td>\n",
              "    </tr>\n",
              "    <tr>\n",
              "      <th>0</th>\n",
              "      <td>0.001</td>\n",
              "      <td>l1</td>\n",
              "      <td>liblinear</td>\n",
              "      <td>0.789365</td>\n",
              "      <td>0.76087</td>\n",
              "      <td>0.854839</td>\n",
              "    </tr>\n",
              "    <tr>\n",
              "      <th>0</th>\n",
              "      <td>0.100</td>\n",
              "      <td>l1</td>\n",
              "      <td>liblinear</td>\n",
              "      <td>0.897143</td>\n",
              "      <td>0.76087</td>\n",
              "      <td>0.854839</td>\n",
              "    </tr>\n",
              "    <tr>\n",
              "      <th>0</th>\n",
              "      <td>0.100</td>\n",
              "      <td>l1</td>\n",
              "      <td>liblinear</td>\n",
              "      <td>0.761111</td>\n",
              "      <td>0.76087</td>\n",
              "      <td>0.854839</td>\n",
              "    </tr>\n",
              "    <tr>\n",
              "      <th>0</th>\n",
              "      <td>0.100</td>\n",
              "      <td>l1</td>\n",
              "      <td>liblinear</td>\n",
              "      <td>0.867937</td>\n",
              "      <td>0.76087</td>\n",
              "      <td>0.854839</td>\n",
              "    </tr>\n",
              "  </tbody>\n",
              "</table>\n",
              "</div>"
            ],
            "text/plain": [
              "       C penalty     solver      Best    Lower     Upper\n",
              "0  0.100      l1  liblinear  0.820635  0.76087  0.854839\n",
              "0  0.001      l1  liblinear  0.789365  0.76087  0.854839\n",
              "0  0.100      l1  liblinear  0.897143  0.76087  0.854839\n",
              "0  0.100      l1  liblinear  0.761111  0.76087  0.854839\n",
              "0  0.100      l1  liblinear  0.867937  0.76087  0.854839"
            ]
          },
          "metadata": {},
          "execution_count": 7
        }
      ]
    },
    {
      "cell_type": "markdown",
      "metadata": {
        "id": "Dj4OLwKk0SfZ"
      },
      "source": [
        "## Here, the effect of using different regularization values is quite obvious. We can see that at different values of C our confidence interval values also changing."
      ]
    },
    {
      "cell_type": "code",
      "metadata": {
        "id": "FW8yIQW90Ay_"
      },
      "source": [
        ""
      ],
      "execution_count": null,
      "outputs": []
    },
    {
      "cell_type": "markdown",
      "metadata": {
        "id": "e-cgDsS6oSfm"
      },
      "source": [
        "## Point 3 - Choose Optimal Logistic Model form L1 Regularization"
      ]
    },
    {
      "cell_type": "markdown",
      "metadata": {
        "id": "0KPPEP3jlYFI"
      },
      "source": [
        "Choose a final, optimal logistic model informed by the regularized work you’ve done in part 2. Is this model significantly different from the model you obtained in the first step (logistic regression without penalty). Include rational about how you arrived at an optimal regularization parameter.\n",
        "\n",
        "\n",
        "<b> Answer: </b>\n",
        "I choose a final optimal logistic regression model where best hyperparameter values are <b> {'C': 0.01, 'penalty': 'l1', 'solver': 'liblinear'} </b>. This model is significantly different from the model we obtained in the first step without regulization penalty. Moreover, I have used grid search approch to arrived at an optimal regularization parameter."
      ]
    },
    {
      "cell_type": "markdown",
      "metadata": {
        "id": "mVnZiqd5omRF"
      },
      "source": [
        "## Point 4 - Choose a Final Model\n",
        "To this point, we’ve focused on logistic regression, but, in this final step, we’d like you to choose a final model that you will use to best predict the outcome. Build this model and present its results to the team. How would you explain a prediction from it to someone who isn’t familiar with the model? Would you recommend putting this model into production? Why or why not?"
      ]
    },
    {
      "cell_type": "markdown",
      "metadata": {
        "id": "mPcjLAuLxD05"
      },
      "source": [
        "<b> Anwer: </b> As we can see, even if not so strong, there is a class imbalance.\n",
        "To handle class imbalance it's possible to re-balance the dataset with different techniques. The rebalancing techniques helps to improve the model performance. \n",
        "\n",
        "Here I will try SMOTE technique to rebalance the dataset.\n"
      ]
    },
    {
      "cell_type": "markdown",
      "metadata": {
        "id": "UiJ4RVNfMLeT"
      },
      "source": [
        "### SMOTE (Synthetic Minority Oversampling Technique)\n",
        "SMOTE (Synthetic Minority Oversampling Technique) is one of the oversampling techniques that use a minority class to generate synthetic samples. In consequence, it overcomes the overfitting problem raised by random oversampling\n",
        " SMOTE works by generating instances that are close in feature space, using interpolation between positive cases that are close to each other. It randomly selects a minority class instance and finds its nearest neighbour. Then it creates synthetic models by randomly choosing one of the neighbours and forms a line segment in the feature space."
      ]
    },
    {
      "cell_type": "code",
      "metadata": {
        "id": "sXwKAdjWBUvJ"
      },
      "source": [
        "X = data.iloc[:, :-1] \n",
        "y = data['DEATH_EVENT'] #target varaable\n"
      ],
      "execution_count": null,
      "outputs": []
    },
    {
      "cell_type": "markdown",
      "metadata": {
        "id": "4mrtQPQTQtSA"
      },
      "source": [
        "Why i use random forest for imbalance dataset\n",
        "Random forest is an ideal algorithm to deal with the extreme imbalance owing to two main reasons. Firstly, the ability to incorporate class weights into the random forest classifier makes it cost-sensitive; hence it penalizes misclassifying the minority class. Secondly, it combines the sampling technique and ensemble learning, therefore, downsampling the majority class and growing trees on a more balanced dataset. There are several other advantages of using a random forest classifier with imbalanced datasets. The algorithm is a strong modelling technique and is much more sturdy than a single decision tree. The aggregation of several trees limits the possibility of overfitting and miscalculations due to bias and, in return, capitulates handy results"
      ]
    },
    {
      "cell_type": "code",
      "metadata": {
        "colab": {
          "base_uri": "https://localhost:8080/"
        },
        "id": "AMiZ6RnYOqn4",
        "outputId": "0fbbf5d8-a1dc-4ac9-a2cc-aa9848ef5fa1"
      },
      "source": [
        "\n",
        "X = data.iloc[:, :-1] \n",
        "y = data['DEATH_EVENT'] #target varaable\n",
        "\n",
        "oversample = SMOTE()\n",
        "over_X, over_y = oversample.fit_resample(X, y)\n",
        "over_X_train, over_X_test, over_y_train, over_y_test = train_test_split(over_X, over_y, test_size=0.1, stratify=over_y)\n",
        "#Build SMOTE SRF model\n",
        "SMOTE_SRF = RandomForestClassifier(n_estimators=150, random_state=0)\n",
        "#Create Stratified K-fold cross validation\n",
        "cv = RepeatedStratifiedKFold(n_splits=10, n_repeats=3, random_state=1)\n",
        "scoring = ('f1', 'recall', 'precision')\n",
        "#Evaluate SMOTE SRF model\n",
        "scores = cross_validate(SMOTE_SRF, over_X, over_y, scoring=scoring, cv=cv)\n",
        "#Get average evaluation metrics\n",
        "print('Mean f1: %.3f' % mean(scores['test_f1']))\n",
        "print('Mean recall: %.3f' % mean(scores['test_recall']))\n",
        "print('Mean precision: %.3f' % mean(scores['test_precision']))\n",
        "\n",
        "#Randomly spilt dataset to test and train set\n",
        "X_train, X_test, y_train, y_test = train_test_split(X, y, test_size=0.1, stratify=y)\n",
        "#Train SMOTE SRF\n",
        "SMOTE_SRF.fit(over_X_train, over_y_train)\n",
        "#SMOTE SRF prediction result\n",
        "y_pred = SMOTE_SRF.predict(X_test)\n"
      ],
      "execution_count": null,
      "outputs": [
        {
          "name": "stdout",
          "output_type": "stream",
          "text": [
            "Mean f1: 0.893\n",
            "Mean recall: 0.898\n",
            "Mean precision: 0.893\n"
          ]
        }
      ]
    },
    {
      "cell_type": "markdown",
      "metadata": {
        "id": "M_0IP5ZfPiSw"
      },
      "source": [
        "After we used SMOTE to oversample the minority class, we similarly trained our model as the Standard Random Forest. The F-1 score of 0.896 has achieved with good precision and recall.\n",
        "Lets look into the confusion matrix to see how the implementation of SMOTE has influenced it:"
      ]
    },
    {
      "cell_type": "code",
      "metadata": {
        "colab": {
          "base_uri": "https://localhost:8080/",
          "height": 295
        },
        "id": "e-qGLtFIPquk",
        "outputId": "4f79c9c7-3134-4b0e-9e68-e7d084bbcdd0"
      },
      "source": [
        "#Create confusion matrix\n",
        "fig = plot_confusion_matrix(SMOTE_SRF, X_test, y_test, display_labels=[\"Heart Not Failed\",\"Heart Failed\"], cmap='Greens')\n",
        "plt.title('SMOTE + Random Forest Confusion Matrix')\n",
        "plt.show()"
      ],
      "execution_count": null,
      "outputs": [
        {
          "data": {
            "image/png": "[encoded data removed]",
            "text/plain": [
              "<Figure size 432x288 with 2 Axes>"
            ]
          },
          "metadata": {},
          "output_type": "display_data"
        }
      ]
    },
    {
      "cell_type": "markdown",
      "metadata": {
        "id": "K1UMfEGe3DrI"
      },
      "source": [
        "\n",
        "However, my analysis is not finalized yet, because looking into feature ranking/selection is not covered in this analysis. Plus, other models (xgboost, gb, xgbrf, LGBM etc.) can be tested for comparision.\n",
        "ATM, base on the current analysis, I would choose SMOTE Technique with Random Forests Algorithm for production. \n"
      ]
    },
    {
      "cell_type": "code",
      "metadata": {
        "id": "arrR5l9eCh3k"
      },
      "source": [
        ""
      ],
      "execution_count": null,
      "outputs": []
    }
  ]
}